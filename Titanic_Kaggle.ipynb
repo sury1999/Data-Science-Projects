{
  "nbformat": 4,
  "nbformat_minor": 0,
  "metadata": {
    "colab": {
      "name": "Titanic-Kaggle.ipynb",
      "provenance": [],
      "toc_visible": true,
      "authorship_tag": "ABX9TyPQjrAKhxMfiX4Ee9Pl1k0G",
      "include_colab_link": true
    },
    "kernelspec": {
      "name": "python3",
      "display_name": "Python 3"
    }
  },
  "cells": [
    {
      "cell_type": "markdown",
      "metadata": {
        "id": "view-in-github",
        "colab_type": "text"
      },
      "source": [
        "<a href=\"https://colab.research.google.com/github/sury1999/Data-Science-Projects/blob/main/Titanic_Kaggle.ipynb\" target=\"_parent\"><img src=\"https://colab.research.google.com/assets/colab-badge.svg\" alt=\"Open In Colab\"/></a>"
      ]
    },
    {
      "cell_type": "markdown",
      "metadata": {
        "id": "5J-7IdyFS0s5"
      },
      "source": [
        "##**Titanic- Machine Learning from Disaster**\r\n",
        "###**Kaggle Entry into competitions**\r\n",
        "###Trial for machine learning"
      ]
    },
    {
      "cell_type": "code",
      "metadata": {
        "id": "HKVr5N7h7eQn"
      },
      "source": [
        "import numpy as np \r\n",
        "import pandas as pd \r\n"
      ],
      "execution_count": 8,
      "outputs": []
    },
    {
      "cell_type": "code",
      "metadata": {
        "id": "Sy1un4o37k4e",
        "colab": {
          "base_uri": "https://localhost:8080/"
        },
        "outputId": "21beac49-6a3a-442b-e636-a19b3df2f126"
      },
      "source": [
        "train_data = pd.read_csv('/train.csv')\r\n",
        "train_data.head()\r\n",
        "train_data[train_data['Embarked'].isnull() == True] = train_data[train_data['Embarked'].isnull() == True].fillna('S')\r\n",
        "train_data['Embarked'].isnull().sum()"
      ],
      "execution_count": 9,
      "outputs": [
        {
          "output_type": "execute_result",
          "data": {
            "text/plain": [
              "0"
            ]
          },
          "metadata": {
            "tags": []
          },
          "execution_count": 9
        }
      ]
    },
    {
      "cell_type": "code",
      "metadata": {
        "id": "nVhsUd-C7sJb",
        "colab": {
          "base_uri": "https://localhost:8080/"
        },
        "outputId": "277a0475-fd7a-4de4-b591-af21522a5396"
      },
      "source": [
        "test_data = pd.read_csv(\"/test.csv\")\r\n",
        "test_data.head()\r\n",
        "test_data[(test_data['Fare'].isnull() == True)] = test_data[(test_data['Fare'].isnull() == True)].fillna(test_data['Fare'].mean())\r\n",
        "test_data['Embarked'].isnull().sum()"
      ],
      "execution_count": 10,
      "outputs": [
        {
          "output_type": "execute_result",
          "data": {
            "text/plain": [
              "0"
            ]
          },
          "metadata": {
            "tags": []
          },
          "execution_count": 10
        }
      ]
    },
    {
      "cell_type": "code",
      "metadata": {
        "id": "c9gMtupL7xOv",
        "colab": {
          "base_uri": "https://localhost:8080/"
        },
        "outputId": "3a6ea3f1-3b0c-4981-fb16-76f82f0bb5b6"
      },
      "source": [
        "women_total = train_data.loc[train_data.Sex == 'female'].shape[0]\r\n",
        "women_survived = train_data.loc[(train_data.Sex == 'female') & (train_data.Survived == 1)]\r\n",
        "print('percentage of women who surived is')\r\n",
        "print(women_survived.shape[0] / women_total)"
      ],
      "execution_count": 11,
      "outputs": [
        {
          "output_type": "stream",
          "text": [
            "percentage of women who surived is\n",
            "0.7420382165605095\n"
          ],
          "name": "stdout"
        }
      ]
    },
    {
      "cell_type": "code",
      "metadata": {
        "id": "9_Zv1MGb70Jz",
        "colab": {
          "base_uri": "https://localhost:8080/"
        },
        "outputId": "dd85d2f2-6a04-403e-ce86-cd9bcf42d679"
      },
      "source": [
        "men_total = train_data.loc[train_data.Sex == 'male'].shape[0]\r\n",
        "men_survived = train_data.loc[(train_data.Sex == 'male') & (train_data.Survived == 1)]\r\n",
        "print('percentage of men who surived is')\r\n",
        "print(men_survived.shape[0] / men_total)"
      ],
      "execution_count": 12,
      "outputs": [
        {
          "output_type": "stream",
          "text": [
            "percentage of men who surived is\n",
            "0.18890814558058924\n"
          ],
          "name": "stdout"
        }
      ]
    },
    {
      "cell_type": "code",
      "metadata": {
        "id": "S2bFbD-87796",
        "colab": {
          "base_uri": "https://localhost:8080/",
          "height": 195
        },
        "outputId": "7c2d4d36-45b5-4fa0-c626-f0d11a41f6e7"
      },
      "source": [
        "from sklearn.ensemble import RandomForestClassifier\r\n",
        "y = train_data['Survived']\r\n",
        "feature_names = ['Pclass', 'Sex', 'SibSp', 'Parch', 'Embarked']\r\n",
        "X = pd.get_dummies(train_data[feature_names])\r\n",
        "X_Test = pd.get_dummies(test_data[feature_names])\r\n",
        "fares = train_data['Fare'] \r\n",
        "fares_test = test_data['Fare']\r\n",
        "X['Fare'] = fares\r\n",
        "X_Test['Fare'] = fares_test\r\n",
        "\r\n",
        "X_Test.head()"
      ],
      "execution_count": 13,
      "outputs": [
        {
          "output_type": "execute_result",
          "data": {
            "text/html": [
              "<div>\n",
              "<style scoped>\n",
              "    .dataframe tbody tr th:only-of-type {\n",
              "        vertical-align: middle;\n",
              "    }\n",
              "\n",
              "    .dataframe tbody tr th {\n",
              "        vertical-align: top;\n",
              "    }\n",
              "\n",
              "    .dataframe thead th {\n",
              "        text-align: right;\n",
              "    }\n",
              "</style>\n",
              "<table border=\"1\" class=\"dataframe\">\n",
              "  <thead>\n",
              "    <tr style=\"text-align: right;\">\n",
              "      <th></th>\n",
              "      <th>Pclass</th>\n",
              "      <th>SibSp</th>\n",
              "      <th>Parch</th>\n",
              "      <th>Sex_female</th>\n",
              "      <th>Sex_male</th>\n",
              "      <th>Embarked_C</th>\n",
              "      <th>Embarked_Q</th>\n",
              "      <th>Embarked_S</th>\n",
              "      <th>Fare</th>\n",
              "    </tr>\n",
              "  </thead>\n",
              "  <tbody>\n",
              "    <tr>\n",
              "      <th>0</th>\n",
              "      <td>3</td>\n",
              "      <td>0</td>\n",
              "      <td>0</td>\n",
              "      <td>0</td>\n",
              "      <td>1</td>\n",
              "      <td>0</td>\n",
              "      <td>1</td>\n",
              "      <td>0</td>\n",
              "      <td>7.8292</td>\n",
              "    </tr>\n",
              "    <tr>\n",
              "      <th>1</th>\n",
              "      <td>3</td>\n",
              "      <td>1</td>\n",
              "      <td>0</td>\n",
              "      <td>1</td>\n",
              "      <td>0</td>\n",
              "      <td>0</td>\n",
              "      <td>0</td>\n",
              "      <td>1</td>\n",
              "      <td>7.0000</td>\n",
              "    </tr>\n",
              "    <tr>\n",
              "      <th>2</th>\n",
              "      <td>2</td>\n",
              "      <td>0</td>\n",
              "      <td>0</td>\n",
              "      <td>0</td>\n",
              "      <td>1</td>\n",
              "      <td>0</td>\n",
              "      <td>1</td>\n",
              "      <td>0</td>\n",
              "      <td>9.6875</td>\n",
              "    </tr>\n",
              "    <tr>\n",
              "      <th>3</th>\n",
              "      <td>3</td>\n",
              "      <td>0</td>\n",
              "      <td>0</td>\n",
              "      <td>0</td>\n",
              "      <td>1</td>\n",
              "      <td>0</td>\n",
              "      <td>0</td>\n",
              "      <td>1</td>\n",
              "      <td>8.6625</td>\n",
              "    </tr>\n",
              "    <tr>\n",
              "      <th>4</th>\n",
              "      <td>3</td>\n",
              "      <td>1</td>\n",
              "      <td>1</td>\n",
              "      <td>1</td>\n",
              "      <td>0</td>\n",
              "      <td>0</td>\n",
              "      <td>0</td>\n",
              "      <td>1</td>\n",
              "      <td>12.2875</td>\n",
              "    </tr>\n",
              "  </tbody>\n",
              "</table>\n",
              "</div>"
            ],
            "text/plain": [
              "   Pclass  SibSp  Parch  ...  Embarked_Q  Embarked_S     Fare\n",
              "0       3      0      0  ...           1           0   7.8292\n",
              "1       3      1      0  ...           0           1   7.0000\n",
              "2       2      0      0  ...           1           0   9.6875\n",
              "3       3      0      0  ...           0           1   8.6625\n",
              "4       3      1      1  ...           0           1  12.2875\n",
              "\n",
              "[5 rows x 9 columns]"
            ]
          },
          "metadata": {
            "tags": []
          },
          "execution_count": 13
        }
      ]
    },
    {
      "cell_type": "code",
      "metadata": {
        "id": "6_UNNJIWywGI",
        "outputId": "51be417d-a2d6-4994-ac86-89968b0a0a92",
        "colab": {
          "base_uri": "https://localhost:8080/"
        }
      },
      "source": [
        "model = RandomForestClassifier(random_state=1, n_estimators=100,  max_depth=5)\r\n",
        "model.fit(X,y)\r\n",
        "predictions = model.predict(X_Test)\r\n",
        "output = pd.DataFrame({'PassengerId': test_data.PassengerId, 'Survived': predictions})\r\n",
        "output.to_csv('my_submission.csv', index=False)\r\n",
        "print(\"Your submission was successfully saved!\")"
      ],
      "execution_count": 14,
      "outputs": [
        {
          "output_type": "stream",
          "text": [
            "Your submission was successfully saved!\n"
          ],
          "name": "stdout"
        }
      ]
    }
  ]
}