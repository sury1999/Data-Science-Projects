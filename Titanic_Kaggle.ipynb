{
  "nbformat": 4,
  "nbformat_minor": 0,
  "metadata": {
    "colab": {
      "name": "Titanic-Kaggle.ipynb",
      "provenance": [],
      "authorship_tag": "ABX9TyN/lt0mgCgu1MAnhSwwbfqT",
      "include_colab_link": true
    },
    "kernelspec": {
      "name": "python3",
      "display_name": "Python 3"
    }
  },
  "cells": [
    {
      "cell_type": "markdown",
      "metadata": {
        "id": "view-in-github",
        "colab_type": "text"
      },
      "source": [
        "<a href=\"https://colab.research.google.com/github/sury1999/Data-Science-Projects/blob/main/Titanic_Kaggle.ipynb\" target=\"_parent\"><img src=\"https://colab.research.google.com/assets/colab-badge.svg\" alt=\"Open In Colab\"/></a>"
      ]
    },
    {
      "cell_type": "markdown",
      "metadata": {
        "id": "5J-7IdyFS0s5"
      },
      "source": [
        "##**Titanic- Machine Learning from Disaster**\r\n",
        "###**Kaggle Entry into competitions**\r\n",
        "###Trial for machine learning"
      ]
    },
    {
      "cell_type": "code",
      "metadata": {
        "id": "HKVr5N7h7eQn"
      },
      "source": [
        "import numpy as np \r\n",
        "import pandas as pd \r\n"
      ],
      "execution_count": 1,
      "outputs": []
    },
    {
      "cell_type": "code",
      "metadata": {
        "id": "Sy1un4o37k4e",
        "colab": {
          "base_uri": "https://localhost:8080/"
        },
        "outputId": "ac5789cf-1b62-47a7-d2df-a48db0bbb7d4"
      },
      "source": [
        "train_data = pd.read_csv('/train.csv')\r\n",
        "train_data.head()\r\n",
        "train_data['Fare'].isnull().sum()"
      ],
      "execution_count": 2,
      "outputs": [
        {
          "output_type": "execute_result",
          "data": {
            "text/plain": [
              "0"
            ]
          },
          "metadata": {
            "tags": []
          },
          "execution_count": 2
        }
      ]
    },
    {
      "cell_type": "code",
      "metadata": {
        "id": "nVhsUd-C7sJb",
        "colab": {
          "base_uri": "https://localhost:8080/"
        },
        "outputId": "405384d8-6726-47a0-f3fd-a928cbf2c286"
      },
      "source": [
        "test_data = pd.read_csv('/test.csv')\r\n",
        "test_data.head()\r\n",
        "test_data[(test_data['Fare'].isnull() == True)] = test_data[(test_data['Fare'].isnull() == True)].fillna(0)\r\n",
        "test_data['Fare'].isnull().sum()"
      ],
      "execution_count": 3,
      "outputs": [
        {
          "output_type": "execute_result",
          "data": {
            "text/plain": [
              "0"
            ]
          },
          "metadata": {
            "tags": []
          },
          "execution_count": 3
        }
      ]
    },
    {
      "cell_type": "code",
      "metadata": {
        "id": "c9gMtupL7xOv",
        "outputId": "f4d5a284-555a-4c9e-d497-17df144e3339",
        "colab": {
          "base_uri": "https://localhost:8080/"
        }
      },
      "source": [
        "women_total = train_data.loc[train_data.Sex == 'female'].shape[0]\r\n",
        "women_survived = train_data.loc[(train_data.Sex == 'female') & (train_data.Survived == 1)]\r\n",
        "print('percentage of women who surived is')\r\n",
        "print(women_survived.shape[0] / women_total)"
      ],
      "execution_count": 4,
      "outputs": [
        {
          "output_type": "stream",
          "text": [
            "percentage of women who surived is\n",
            "0.7420382165605095\n"
          ],
          "name": "stdout"
        }
      ]
    },
    {
      "cell_type": "code",
      "metadata": {
        "id": "9_Zv1MGb70Jz",
        "outputId": "64f95e06-52e5-4d79-a808-21f9f4cd7e12",
        "colab": {
          "base_uri": "https://localhost:8080/"
        }
      },
      "source": [
        "men_total = train_data.loc[train_data.Sex == 'male'].shape[0]\r\n",
        "men_survived = train_data.loc[(train_data.Sex == 'male') & (train_data.Survived == 1)]\r\n",
        "print('percentage of men who surived is')\r\n",
        "print(men_survived.shape[0] / men_total)"
      ],
      "execution_count": 5,
      "outputs": [
        {
          "output_type": "stream",
          "text": [
            "percentage of men who surived is\n",
            "0.18890814558058924\n"
          ],
          "name": "stdout"
        }
      ]
    },
    {
      "cell_type": "code",
      "metadata": {
        "id": "S2bFbD-87796",
        "outputId": "a7d54e92-8667-4ceb-f7c8-97a0b91b5403",
        "colab": {
          "base_uri": "https://localhost:8080/"
        }
      },
      "source": [
        "from sklearn.ensemble import RandomForestClassifier\r\n",
        "y = train_data['Survived']\r\n",
        "feature_names = ['Pclass', 'Sex', 'SibSp', 'Parch']\r\n",
        "X = pd.get_dummies(train_data[feature_names])\r\n",
        "fares = train_data['Fare'] \r\n",
        "X['Fare'] = fares\r\n",
        "X_test = pd.get_dummies(test_data[feature_names])\r\n",
        "fares_test = test_data['Fare'] \r\n",
        "X_test['Fare'] = fares_test\r\n",
        "X_test.head(5)\r\n",
        "model = RandomForestClassifier(random_state=1, n_estimators=100,  max_depth=5)\r\n",
        "model.fit(X,y)\r\n",
        "predictions = model.predict(X_test)\r\n",
        "output = pd.DataFrame({'PassengerId': test_data.PassengerId, 'Survived': predictions})\r\n",
        "output.to_csv('my_submission.csv', index=False)\r\n",
        "print(\"Your submission was successfully saved!\")"
      ],
      "execution_count": 6,
      "outputs": [
        {
          "output_type": "stream",
          "text": [
            "Your submission was successfully saved!\n"
          ],
          "name": "stdout"
        }
      ]
    }
  ]
}