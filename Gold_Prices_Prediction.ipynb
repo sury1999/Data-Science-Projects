{
  "nbformat": 4,
  "nbformat_minor": 0,
  "metadata": {
    "colab": {
      "name": "Gold_Prices_Prediction.ipynb",
      "provenance": [],
      "authorship_tag": "ABX9TyMHdMGZCP0TGCX8xePgfmVP",
      "include_colab_link": true
    },
    "kernelspec": {
      "name": "python3",
      "display_name": "Python 3"
    },
    "language_info": {
      "name": "python"
    }
  },
  "cells": [
    {
      "cell_type": "markdown",
      "metadata": {
        "id": "view-in-github",
        "colab_type": "text"
      },
      "source": [
        "<a href=\"https://colab.research.google.com/github/sury1999/Data-Science-Projects/blob/main/Gold_Prices_Prediction.ipynb\" target=\"_parent\"><img src=\"https://colab.research.google.com/assets/colab-badge.svg\" alt=\"Open In Colab\"/></a>"
      ]
    },
    {
      "cell_type": "markdown",
      "metadata": {
        "id": "qZqJWZoyoCZy"
      },
      "source": [
        "ARIMA MODEL "
      ]
    },
    {
      "cell_type": "code",
      "metadata": {
        "id": "aPtQRBPVoBEc"
      },
      "source": [
        "import numpy as np\n",
        "import pandas as pd\n",
        "import matplotlib.pyplot as plt\n",
        "from statsmodels.tsa.stattools import acf, pacf\n",
        "from statsmodels.tsa.arima_model import ARIMA\n",
        "from statsmodels.tsa.stattools import adfuller\n",
        "import pmdarima\n",
        "from pmdarima.arima import auto_arima\n",
        "from matplotlib.pylab import rcParams\n",
        "rcParams['figure.figsize'] = 14, 6"
      ],
      "execution_count": 1,
      "outputs": []
    },
    {
      "cell_type": "code",
      "metadata": {
        "id": "Yx-bTDfjDTD2"
      },
      "source": [
        "#! pip install pmdarima"
      ],
      "execution_count": 2,
      "outputs": []
    },
    {
      "cell_type": "code",
      "metadata": {
        "id": "SsGzMBrvD4Ov"
      },
      "source": [
        "df = pd.read_csv('/content/goldx.csv')"
      ],
      "execution_count": 3,
      "outputs": []
    },
    {
      "cell_type": "code",
      "metadata": {
        "colab": {
          "base_uri": "https://localhost:8080/",
          "height": 203
        },
        "id": "AIzO_zqeEdzg",
        "outputId": "012c8d08-774a-4f64-8632-5908c34078e3"
      },
      "source": [
        "df.head()"
      ],
      "execution_count": 4,
      "outputs": [
        {
          "output_type": "execute_result",
          "data": {
            "text/html": [
              "<div>\n",
              "<style scoped>\n",
              "    .dataframe tbody tr th:only-of-type {\n",
              "        vertical-align: middle;\n",
              "    }\n",
              "\n",
              "    .dataframe tbody tr th {\n",
              "        vertical-align: top;\n",
              "    }\n",
              "\n",
              "    .dataframe thead th {\n",
              "        text-align: right;\n",
              "    }\n",
              "</style>\n",
              "<table border=\"1\" class=\"dataframe\">\n",
              "  <thead>\n",
              "    <tr style=\"text-align: right;\">\n",
              "      <th></th>\n",
              "      <th>Date</th>\n",
              "      <th>Price</th>\n",
              "      <th>Open</th>\n",
              "      <th>High</th>\n",
              "      <th>Low</th>\n",
              "    </tr>\n",
              "  </thead>\n",
              "  <tbody>\n",
              "    <tr>\n",
              "      <th>0</th>\n",
              "      <td>Aug 01, 2018</td>\n",
              "      <td>1216.6</td>\n",
              "      <td>1223.4</td>\n",
              "      <td>1223.4</td>\n",
              "      <td>1216.2</td>\n",
              "    </tr>\n",
              "    <tr>\n",
              "      <th>1</th>\n",
              "      <td>Jul 31, 2018</td>\n",
              "      <td>1223.7</td>\n",
              "      <td>1220.4</td>\n",
              "      <td>1228.1</td>\n",
              "      <td>1213.0</td>\n",
              "    </tr>\n",
              "    <tr>\n",
              "      <th>2</th>\n",
              "      <td>Jul 30, 2018</td>\n",
              "      <td>1221.3</td>\n",
              "      <td>1222.5</td>\n",
              "      <td>1223.9</td>\n",
              "      <td>1218.1</td>\n",
              "    </tr>\n",
              "    <tr>\n",
              "      <th>3</th>\n",
              "      <td>Jul 27, 2018</td>\n",
              "      <td>1222.2</td>\n",
              "      <td>1223.5</td>\n",
              "      <td>1226.8</td>\n",
              "      <td>1216.7</td>\n",
              "    </tr>\n",
              "    <tr>\n",
              "      <th>4</th>\n",
              "      <td>Jul 26, 2018</td>\n",
              "      <td>1225.3</td>\n",
              "      <td>1227.8</td>\n",
              "      <td>1227.8</td>\n",
              "      <td>1227.8</td>\n",
              "    </tr>\n",
              "  </tbody>\n",
              "</table>\n",
              "</div>"
            ],
            "text/plain": [
              "           Date   Price    Open    High     Low\n",
              "0  Aug 01, 2018  1216.6  1223.4  1223.4  1216.2\n",
              "1  Jul 31, 2018  1223.7  1220.4  1228.1  1213.0\n",
              "2  Jul 30, 2018  1221.3  1222.5  1223.9  1218.1\n",
              "3  Jul 27, 2018  1222.2  1223.5  1226.8  1216.7\n",
              "4  Jul 26, 2018  1225.3  1227.8  1227.8  1227.8"
            ]
          },
          "metadata": {
            "tags": []
          },
          "execution_count": 4
        }
      ]
    },
    {
      "cell_type": "code",
      "metadata": {
        "colab": {
          "base_uri": "https://localhost:8080/"
        },
        "id": "wmMaAse7L6Tw",
        "outputId": "72186189-9555-46e9-d302-3d1836aadc10"
      },
      "source": [
        "df.info()"
      ],
      "execution_count": 5,
      "outputs": [
        {
          "output_type": "stream",
          "text": [
            "<class 'pandas.core.frame.DataFrame'>\n",
            "RangeIndex: 9771 entries, 0 to 9770\n",
            "Data columns (total 5 columns):\n",
            " #   Column  Non-Null Count  Dtype  \n",
            "---  ------  --------------  -----  \n",
            " 0   Date    9771 non-null   object \n",
            " 1   Price   9771 non-null   float64\n",
            " 2   Open    9771 non-null   float64\n",
            " 3   High    9771 non-null   float64\n",
            " 4   Low     9771 non-null   float64\n",
            "dtypes: float64(4), object(1)\n",
            "memory usage: 381.8+ KB\n"
          ],
          "name": "stdout"
        }
      ]
    },
    {
      "cell_type": "markdown",
      "metadata": {
        "id": "29O0NCWOqXyr"
      },
      "source": [
        "Dropping Open, Low and High for ease of use"
      ]
    },
    {
      "cell_type": "code",
      "metadata": {
        "colab": {
          "base_uri": "https://localhost:8080/",
          "height": 203
        },
        "id": "rnIG_b-upyFS",
        "outputId": "67dd7fd1-384b-450e-800e-5720ae4497cb"
      },
      "source": [
        "df = df.drop(['Open', 'Low', 'High'], axis=1)\n",
        "df.head()"
      ],
      "execution_count": 6,
      "outputs": [
        {
          "output_type": "execute_result",
          "data": {
            "text/html": [
              "<div>\n",
              "<style scoped>\n",
              "    .dataframe tbody tr th:only-of-type {\n",
              "        vertical-align: middle;\n",
              "    }\n",
              "\n",
              "    .dataframe tbody tr th {\n",
              "        vertical-align: top;\n",
              "    }\n",
              "\n",
              "    .dataframe thead th {\n",
              "        text-align: right;\n",
              "    }\n",
              "</style>\n",
              "<table border=\"1\" class=\"dataframe\">\n",
              "  <thead>\n",
              "    <tr style=\"text-align: right;\">\n",
              "      <th></th>\n",
              "      <th>Date</th>\n",
              "      <th>Price</th>\n",
              "    </tr>\n",
              "  </thead>\n",
              "  <tbody>\n",
              "    <tr>\n",
              "      <th>0</th>\n",
              "      <td>Aug 01, 2018</td>\n",
              "      <td>1216.6</td>\n",
              "    </tr>\n",
              "    <tr>\n",
              "      <th>1</th>\n",
              "      <td>Jul 31, 2018</td>\n",
              "      <td>1223.7</td>\n",
              "    </tr>\n",
              "    <tr>\n",
              "      <th>2</th>\n",
              "      <td>Jul 30, 2018</td>\n",
              "      <td>1221.3</td>\n",
              "    </tr>\n",
              "    <tr>\n",
              "      <th>3</th>\n",
              "      <td>Jul 27, 2018</td>\n",
              "      <td>1222.2</td>\n",
              "    </tr>\n",
              "    <tr>\n",
              "      <th>4</th>\n",
              "      <td>Jul 26, 2018</td>\n",
              "      <td>1225.3</td>\n",
              "    </tr>\n",
              "  </tbody>\n",
              "</table>\n",
              "</div>"
            ],
            "text/plain": [
              "           Date   Price\n",
              "0  Aug 01, 2018  1216.6\n",
              "1  Jul 31, 2018  1223.7\n",
              "2  Jul 30, 2018  1221.3\n",
              "3  Jul 27, 2018  1222.2\n",
              "4  Jul 26, 2018  1225.3"
            ]
          },
          "metadata": {
            "tags": []
          },
          "execution_count": 6
        }
      ]
    },
    {
      "cell_type": "code",
      "metadata": {
        "colab": {
          "base_uri": "https://localhost:8080/",
          "height": 234
        },
        "id": "nu9q9NH63EEt",
        "outputId": "c0acb94a-c0be-4ee7-f6d4-103fc874816d"
      },
      "source": [
        "df['Date'] = pd.to_datetime(df['Date'],infer_datetime_format=True)\n",
        "dataset = df.set_index(['Date'])\n",
        "dataset.head(5)"
      ],
      "execution_count": 7,
      "outputs": [
        {
          "output_type": "execute_result",
          "data": {
            "text/html": [
              "<div>\n",
              "<style scoped>\n",
              "    .dataframe tbody tr th:only-of-type {\n",
              "        vertical-align: middle;\n",
              "    }\n",
              "\n",
              "    .dataframe tbody tr th {\n",
              "        vertical-align: top;\n",
              "    }\n",
              "\n",
              "    .dataframe thead th {\n",
              "        text-align: right;\n",
              "    }\n",
              "</style>\n",
              "<table border=\"1\" class=\"dataframe\">\n",
              "  <thead>\n",
              "    <tr style=\"text-align: right;\">\n",
              "      <th></th>\n",
              "      <th>Price</th>\n",
              "    </tr>\n",
              "    <tr>\n",
              "      <th>Date</th>\n",
              "      <th></th>\n",
              "    </tr>\n",
              "  </thead>\n",
              "  <tbody>\n",
              "    <tr>\n",
              "      <th>2018-08-01</th>\n",
              "      <td>1216.6</td>\n",
              "    </tr>\n",
              "    <tr>\n",
              "      <th>2018-07-31</th>\n",
              "      <td>1223.7</td>\n",
              "    </tr>\n",
              "    <tr>\n",
              "      <th>2018-07-30</th>\n",
              "      <td>1221.3</td>\n",
              "    </tr>\n",
              "    <tr>\n",
              "      <th>2018-07-27</th>\n",
              "      <td>1222.2</td>\n",
              "    </tr>\n",
              "    <tr>\n",
              "      <th>2018-07-26</th>\n",
              "      <td>1225.3</td>\n",
              "    </tr>\n",
              "  </tbody>\n",
              "</table>\n",
              "</div>"
            ],
            "text/plain": [
              "             Price\n",
              "Date              \n",
              "2018-08-01  1216.6\n",
              "2018-07-31  1223.7\n",
              "2018-07-30  1221.3\n",
              "2018-07-27  1222.2\n",
              "2018-07-26  1225.3"
            ]
          },
          "metadata": {
            "tags": []
          },
          "execution_count": 7
        }
      ]
    },
    {
      "cell_type": "code",
      "metadata": {
        "colab": {
          "base_uri": "https://localhost:8080/",
          "height": 265
        },
        "id": "fWG6hy0hMFm0",
        "outputId": "4260e040-4acd-4ad8-a176-544f31a73b4e"
      },
      "source": [
        "plt.plot(dataset)\n",
        "plt.show()"
      ],
      "execution_count": 8,
      "outputs": [
        {
          "output_type": "display_data",
          "data": {
            "image/png": "[encoded data removed]",
            "text/plain": [
              "<Figure size 432x288 with 1 Axes>"
            ]
          },
          "metadata": {
            "tags": [],
            "needs_background": "light"
          }
        }
      ]
    },
    {
      "cell_type": "code",
      "metadata": {
        "colab": {
          "base_uri": "https://localhost:8080/"
        },
        "id": "siFtjwiljE45",
        "outputId": "a651581f-b1f9-4b84-94c2-e92b6a42a385"
      },
      "source": [
        "from pmdarima.arima import ADFTest\n",
        "adf_test = ADFTest(alpha=0.05)\n",
        "adf_test.should_diff(dataset)"
      ],
      "execution_count": 9,
      "outputs": [
        {
          "output_type": "execute_result",
          "data": {
            "text/plain": [
              "(0.9202215715411978, True)"
            ]
          },
          "metadata": {
            "tags": []
          },
          "execution_count": 9
        }
      ]
    },
    {
      "cell_type": "code",
      "metadata": {
        "colab": {
          "base_uri": "https://localhost:8080/",
          "height": 265
        },
        "id": "A_EpfV_hj1dX",
        "outputId": "851bb0d6-790b-46d0-f251-c686db6c4fb5"
      },
      "source": [
        "train = dataset[-7817:]\n",
        "test = dataset[:1954]\n",
        "plt.plot(train, color='black')\n",
        "plt.plot(test)\n",
        "plt.show()"
      ],
      "execution_count": 10,
      "outputs": [
        {
          "output_type": "display_data",
          "data": {
            "image/png": "[encoded data removed]",
            "text/plain": [
              "<Figure size 432x288 with 1 Axes>"
            ]
          },
          "metadata": {
            "tags": [],
            "needs_background": "light"
          }
        }
      ]
    },
    {
      "cell_type": "code",
      "metadata": {
        "colab": {
          "base_uri": "https://localhost:8080/"
        },
        "id": "TFJ7vZbXnBxN",
        "outputId": "924e4307-2a8c-4073-c064-1adcaf6ef3d5"
      },
      "source": [
        "arima_model = auto_arima(train, start_p=0, d=1, start_q=0, max_p=1, max_q=1, \n",
        "                         start_P=0, D=1, start_Q=0, max_P=1, max_D=1, max_Q=1,\n",
        "                         m=12, seasonal=True, error_action='warn', trace=True,\n",
        "                         surpress_warnings=True, stepwise=True, random_state=10)"
      ],
      "execution_count": 11,
      "outputs": [
        {
          "output_type": "stream",
          "text": [
            "Performing stepwise search to minimize aic\n",
            " ARIMA(0,1,0)(0,1,0)[12]             : AIC=57989.986, Time=0.41 sec\n",
            " ARIMA(1,1,0)(1,1,0)[12]             : AIC=55475.990, Time=3.92 sec\n",
            " ARIMA(0,1,1)(0,1,1)[12]             : AIC=inf, Time=13.82 sec\n",
            " ARIMA(1,1,0)(0,1,0)[12]             : AIC=57991.004, Time=0.37 sec\n",
            " ARIMA(1,1,0)(1,1,1)[12]             : AIC=inf, Time=16.12 sec\n",
            " ARIMA(1,1,0)(0,1,1)[12]             : AIC=inf, Time=11.36 sec\n",
            " ARIMA(0,1,0)(1,1,0)[12]             : AIC=55474.310, Time=2.73 sec\n",
            " ARIMA(0,1,0)(1,1,1)[12]             : AIC=inf, Time=10.63 sec\n",
            " ARIMA(0,1,0)(0,1,1)[12]             : AIC=inf, Time=5.95 sec\n",
            " ARIMA(0,1,1)(1,1,0)[12]             : AIC=55475.997, Time=4.00 sec\n",
            " ARIMA(1,1,1)(1,1,0)[12]             : AIC=55477.300, Time=8.25 sec\n",
            " ARIMA(0,1,0)(1,1,0)[12] intercept   : AIC=55476.218, Time=7.25 sec\n",
            "\n",
            "Best model:  ARIMA(0,1,0)(1,1,0)[12]          \n",
            "Total fit time: 84.825 seconds\n"
          ],
          "name": "stdout"
        }
      ]
    },
    {
      "cell_type": "code",
      "metadata": {
        "colab": {
          "base_uri": "https://localhost:8080/",
          "height": 391
        },
        "id": "h8vKc0c4qOmS",
        "outputId": "f80ebd00-d6f1-45eb-cdc9-0a3d52889eb1"
      },
      "source": [
        "arima_model.summary()"
      ],
      "execution_count": 12,
      "outputs": [
        {
          "output_type": "execute_result",
          "data": {
            "text/html": [
              "<table class=\"simpletable\">\n",
              "<caption>SARIMAX Results</caption>\n",
              "<tr>\n",
              "  <th>Dep. Variable:</th>                  <td>y</td>               <th>  No. Observations:  </th>    <td>7817</td>   \n",
              "</tr>\n",
              "<tr>\n",
              "  <th>Model:</th>           <td>SARIMAX(0, 1, 0)x(1, 1, 0, 12)</td> <th>  Log Likelihood     </th> <td>-27735.155</td>\n",
              "</tr>\n",
              "<tr>\n",
              "  <th>Date:</th>                   <td>Sat, 10 Jul 2021</td>        <th>  AIC                </th>  <td>55474.310</td>\n",
              "</tr>\n",
              "<tr>\n",
              "  <th>Time:</th>                       <td>18:55:38</td>            <th>  BIC                </th>  <td>55488.235</td>\n",
              "</tr>\n",
              "<tr>\n",
              "  <th>Sample:</th>                         <td>0</td>               <th>  HQIC               </th>  <td>55479.082</td>\n",
              "</tr>\n",
              "<tr>\n",
              "  <th></th>                             <td> - 7817</td>            <th>                     </th>      <td> </td>    \n",
              "</tr>\n",
              "<tr>\n",
              "  <th>Covariance Type:</th>               <td>opg</td>              <th>                     </th>      <td> </td>    \n",
              "</tr>\n",
              "</table>\n",
              "<table class=\"simpletable\">\n",
              "<tr>\n",
              "      <td></td>        <th>coef</th>     <th>std err</th>      <th>z</th>      <th>P>|z|</th>  <th>[0.025</th>    <th>0.975]</th>  \n",
              "</tr>\n",
              "<tr>\n",
              "  <th>ar.S.L12</th> <td>   -0.5373</td> <td>    0.004</td> <td> -127.241</td> <td> 0.000</td> <td>   -0.546</td> <td>   -0.529</td>\n",
              "</tr>\n",
              "<tr>\n",
              "  <th>sigma2</th>   <td>   71.4883</td> <td>    0.380</td> <td>  188.204</td> <td> 0.000</td> <td>   70.744</td> <td>   72.233</td>\n",
              "</tr>\n",
              "</table>\n",
              "<table class=\"simpletable\">\n",
              "<tr>\n",
              "  <th>Ljung-Box (L1) (Q):</th>     <td>0.32</td> <th>  Jarque-Bera (JB):  </th> <td>87160.03</td>\n",
              "</tr>\n",
              "<tr>\n",
              "  <th>Prob(Q):</th>                <td>0.57</td> <th>  Prob(JB):          </th>   <td>0.00</td>  \n",
              "</tr>\n",
              "<tr>\n",
              "  <th>Heteroskedasticity (H):</th> <td>0.72</td> <th>  Skew:              </th>   <td>0.17</td>  \n",
              "</tr>\n",
              "<tr>\n",
              "  <th>Prob(H) (two-sided):</th>    <td>0.00</td> <th>  Kurtosis:          </th>   <td>19.37</td> \n",
              "</tr>\n",
              "</table><br/><br/>Warnings:<br/>[1] Covariance matrix calculated using the outer product of gradients (complex-step)."
            ],
            "text/plain": [
              "<class 'statsmodels.iolib.summary.Summary'>\n",
              "\"\"\"\n",
              "                                     SARIMAX Results                                      \n",
              "==========================================================================================\n",
              "Dep. Variable:                                  y   No. Observations:                 7817\n",
              "Model:             SARIMAX(0, 1, 0)x(1, 1, 0, 12)   Log Likelihood              -27735.155\n",
              "Date:                            Sat, 10 Jul 2021   AIC                          55474.310\n",
              "Time:                                    18:55:38   BIC                          55488.235\n",
              "Sample:                                         0   HQIC                         55479.082\n",
              "                                           - 7817                                         \n",
              "Covariance Type:                              opg                                         \n",
              "==============================================================================\n",
              "                 coef    std err          z      P>|z|      [0.025      0.975]\n",
              "------------------------------------------------------------------------------\n",
              "ar.S.L12      -0.5373      0.004   -127.241      0.000      -0.546      -0.529\n",
              "sigma2        71.4883      0.380    188.204      0.000      70.744      72.233\n",
              "===================================================================================\n",
              "Ljung-Box (L1) (Q):                   0.32   Jarque-Bera (JB):             87160.03\n",
              "Prob(Q):                              0.57   Prob(JB):                         0.00\n",
              "Heteroskedasticity (H):               0.72   Skew:                             0.17\n",
              "Prob(H) (two-sided):                  0.00   Kurtosis:                        19.37\n",
              "===================================================================================\n",
              "\n",
              "Warnings:\n",
              "[1] Covariance matrix calculated using the outer product of gradients (complex-step).\n",
              "\"\"\""
            ]
          },
          "metadata": {
            "tags": []
          },
          "execution_count": 12
        }
      ]
    },
    {
      "cell_type": "code",
      "metadata": {
        "colab": {
          "base_uri": "https://localhost:8080/",
          "height": 447
        },
        "id": "89nBfdWpsltz",
        "outputId": "910de5be-0f96-438c-d7de-9a0208107ae2"
      },
      "source": [
        "prediction = pd.DataFrame(arima_model.predict(n_periods=1954), index=test.index)\n",
        "prediction.columns = ['predicted_sales']\n",
        "prediction"
      ],
      "execution_count": 13,
      "outputs": [
        {
          "output_type": "execute_result",
          "data": {
            "text/html": [
              "<div>\n",
              "<style scoped>\n",
              "    .dataframe tbody tr th:only-of-type {\n",
              "        vertical-align: middle;\n",
              "    }\n",
              "\n",
              "    .dataframe tbody tr th {\n",
              "        vertical-align: top;\n",
              "    }\n",
              "\n",
              "    .dataframe thead th {\n",
              "        text-align: right;\n",
              "    }\n",
              "</style>\n",
              "<table border=\"1\" class=\"dataframe\">\n",
              "  <thead>\n",
              "    <tr style=\"text-align: right;\">\n",
              "      <th></th>\n",
              "      <th>predicted_sales</th>\n",
              "    </tr>\n",
              "    <tr>\n",
              "      <th>Date</th>\n",
              "      <th></th>\n",
              "    </tr>\n",
              "  </thead>\n",
              "  <tbody>\n",
              "    <tr>\n",
              "      <th>2018-08-01</th>\n",
              "      <td>483.671515</td>\n",
              "    </tr>\n",
              "    <tr>\n",
              "      <th>2018-07-31</th>\n",
              "      <td>495.745655</td>\n",
              "    </tr>\n",
              "    <tr>\n",
              "      <th>2018-07-30</th>\n",
              "      <td>439.380100</td>\n",
              "    </tr>\n",
              "    <tr>\n",
              "      <th>2018-07-27</th>\n",
              "      <td>437.462221</td>\n",
              "    </tr>\n",
              "    <tr>\n",
              "      <th>2018-07-26</th>\n",
              "      <td>464.335048</td>\n",
              "    </tr>\n",
              "    <tr>\n",
              "      <th>...</th>\n",
              "      <td>...</td>\n",
              "    </tr>\n",
              "    <tr>\n",
              "      <th>2011-02-01</th>\n",
              "      <td>-18524.219508</td>\n",
              "    </tr>\n",
              "    <tr>\n",
              "      <th>2011-01-31</th>\n",
              "      <td>-18531.751682</td>\n",
              "    </tr>\n",
              "    <tr>\n",
              "      <th>2011-01-28</th>\n",
              "      <td>-18467.676319</td>\n",
              "    </tr>\n",
              "    <tr>\n",
              "      <th>2011-01-27</th>\n",
              "      <td>-18504.593902</td>\n",
              "    </tr>\n",
              "    <tr>\n",
              "      <th>2011-01-26</th>\n",
              "      <td>-18535.344483</td>\n",
              "    </tr>\n",
              "  </tbody>\n",
              "</table>\n",
              "<p>1954 rows × 1 columns</p>\n",
              "</div>"
            ],
            "text/plain": [
              "            predicted_sales\n",
              "Date                       \n",
              "2018-08-01       483.671515\n",
              "2018-07-31       495.745655\n",
              "2018-07-30       439.380100\n",
              "2018-07-27       437.462221\n",
              "2018-07-26       464.335048\n",
              "...                     ...\n",
              "2011-02-01    -18524.219508\n",
              "2011-01-31    -18531.751682\n",
              "2011-01-28    -18467.676319\n",
              "2011-01-27    -18504.593902\n",
              "2011-01-26    -18535.344483\n",
              "\n",
              "[1954 rows x 1 columns]"
            ]
          },
          "metadata": {
            "tags": []
          },
          "execution_count": 13
        }
      ]
    },
    {
      "cell_type": "code",
      "metadata": {
        "colab": {
          "base_uri": "https://localhost:8080/",
          "height": 265
        },
        "id": "BcAkJKwFtMH5",
        "outputId": "d258c830-0bf8-4d3b-fe9b-c775e0729e4e"
      },
      "source": [
        "plt.plot(train, label='training')\n",
        "plt.plot(test, label='test')\n",
        "plt.plot(prediction, label='prediction')\n",
        "plt.legend()\n",
        "plt.show()"
      ],
      "execution_count": 14,
      "outputs": [
        {
          "output_type": "display_data",
          "data": {
            "image/png": "[encoded data removed]",
            "text/plain": [
              "<Figure size 432x288 with 1 Axes>"
            ]
          },
          "metadata": {
            "tags": [],
            "needs_background": "light"
          }
        }
      ]
    },
    {
      "cell_type": "markdown",
      "metadata": {
        "id": "7FBtoplPjKRd"
      },
      "source": [
        "# New Section"
      ]
    },
    {
      "cell_type": "code",
      "metadata": {
        "id": "9fMIk-sqOLJ_"
      },
      "source": [
        "mean_rol = dataset.rolling(window=12).mean()\n",
        "mean_std = dataset.rolling(window=12).std()\n"
      ],
      "execution_count": null,
      "outputs": []
    },
    {
      "cell_type": "code",
      "metadata": {
        "id": "UZCMkNhtysGO"
      },
      "source": [
        "og = plt.plot(dataset, color='blue', label='Original')\n",
        "mean_plot = plt.plot(mean_rol, color='brown', label='Rolling Mean')\n",
        "std_plot = plt.plot(mean_std, color='black', label='Rolling Std')\n",
        "plt.legend()\n",
        "plt.show()"
      ],
      "execution_count": null,
      "outputs": []
    },
    {
      "cell_type": "markdown",
      "metadata": {
        "id": "VUxrzTnw2uDe"
      },
      "source": [
        "ADF test"
      ]
    },
    {
      "cell_type": "code",
      "metadata": {
        "id": "rTT3MUse2ooB"
      },
      "source": [
        "adftest = adfuller(dataset['Price'])\n",
        "adfoutput = pd.Series(adftest[0:4], index=['Test Stat', 'pvalue', 'usedlag', 'number of observations'])\n",
        "for key, value in adftest[4].items():\n",
        "  adfoutput['Critical Value (%s)'%key] = value\n",
        "adfoutput['icbest'] = adftest[5]\n",
        "print(adfoutput)"
      ],
      "execution_count": null,
      "outputs": []
    },
    {
      "cell_type": "markdown",
      "metadata": {
        "id": "aROqU1Ua8s9h"
      },
      "source": [
        "Function for ADF values"
      ]
    },
    {
      "cell_type": "code",
      "metadata": {
        "id": "9e9SpCX_8fho"
      },
      "source": [
        "def adf_values(series):\n",
        "  avg = series.rolling(window=12).mean()\n",
        "  std = series.rolling(window=12).std()\n",
        "\n",
        "  og = plt.plot(series, color='blue', label='Original')\n",
        "  mean_plot = plt.plot(avg, color='brown', label='Rolling Mean')\n",
        "  std_plot = plt.plot(std, color='black', label='Rolling Std')\n",
        "  plt.legend()\n",
        "  plt.show()\n",
        "\n",
        "  adftest = adfuller(series, autolag='AIC')\n",
        "  adfoutput = pd.Series(adftest[0:4], index=['Test Stat', 'pvalue', 'usedlag', 'number of observations'])\n",
        "  for key, value in adftest[4].items():\n",
        "    adfoutput['Critical Value (%s)'%key] = value\n",
        "  adfoutput['icbest'] = adftest[5]\n",
        "  print(adfoutput)"
      ],
      "execution_count": null,
      "outputs": []
    },
    {
      "cell_type": "code",
      "metadata": {
        "id": "X1_kY9a3DL0u"
      },
      "source": [
        "test = pmdarima.arima.PPTest() \n",
        "test.should_diff(dataset)"
      ],
      "execution_count": null,
      "outputs": []
    },
    {
      "cell_type": "markdown",
      "metadata": {
        "id": "HFThBzJPgUqY"
      },
      "source": [
        "Differencing Data to Make it Stationary"
      ]
    },
    {
      "cell_type": "code",
      "metadata": {
        "id": "PYiotCR5gbEw"
      },
      "source": [
        "def difference(dataset, interval=1):\n",
        "    index = list(dataset.index)\n",
        "    diff = list()\n",
        "    for i in range(interval, len(dataset)):\n",
        "        value = dataset[\"Price\"][i] - dataset[\"Price\"][i - interval]\n",
        "        diff.append(value)\n",
        "    return pd.DataFrame(diff)"
      ],
      "execution_count": null,
      "outputs": []
    },
    {
      "cell_type": "code",
      "metadata": {
        "id": "swtAU8Z3ghko"
      },
      "source": [
        "diff1 = difference(dataset)\n",
        "plt.plot(diff1)\n",
        "plt.show()"
      ],
      "execution_count": null,
      "outputs": []
    },
    {
      "cell_type": "markdown",
      "metadata": {
        "id": "eWe5FTep8c2U"
      },
      "source": [
        "Log Transforming Data to Make it stationary"
      ]
    },
    {
      "cell_type": "code",
      "metadata": {
        "id": "oHxuqrTDUBfP"
      },
      "source": [
        "ts_log = np.log(dataset)\n",
        "plt.title('Log of the data')\n",
        "plt.plot(ts_log)\n",
        "plt.show()"
      ],
      "execution_count": null,
      "outputs": []
    },
    {
      "cell_type": "code",
      "metadata": {
        "id": "cvGj9O7oVLzX"
      },
      "source": [
        "movingAverage = indexedDataset_logScale.rolling(window=12).mean()\n",
        "movingSTD = indexedDataset_logScale.rolling(window=12).std()\n",
        "plt.plot(indexedDataset_logScale)\n",
        "plt.plot(movingAverage, color='black')\n",
        "plt.plot(movingSTD, color='black')\n",
        "plt.plot(movingAverage, color='red')\n",
        "plt.show()"
      ],
      "execution_count": null,
      "outputs": []
    },
    {
      "cell_type": "code",
      "metadata": {
        "id": "iiApMyJiYmzP"
      },
      "source": [
        "indexedDataset_logScale.dropna(inplace=True)\n",
        "indexedDataset_logScale.head()"
      ],
      "execution_count": null,
      "outputs": []
    },
    {
      "cell_type": "code",
      "metadata": {
        "id": "QjUPsX8GaeKm"
      },
      "source": [
        "results1 = pmdarima.arima.CHTest(m=12).estimate_seasonal_differencing_term(indexedDataset_logScale)\n",
        "results1"
      ],
      "execution_count": null,
      "outputs": []
    },
    {
      "cell_type": "code",
      "metadata": {
        "id": "iHyieLBDY3_s"
      },
      "source": [
        "adf_values(indexedDataset_logScale)"
      ],
      "execution_count": null,
      "outputs": []
    },
    {
      "cell_type": "code",
      "metadata": {
        "id": "XK6nJ5eXZFlD"
      },
      "source": [
        "datasetLogScaleMinusMovingAverage = indexedDataset_logScale - movingAverage\n",
        "datasetLogScaleMinusMovingAverage.head(12)\n",
        "datasetLogScaleMinusMovingAverage.dropna(inplace=True)\n",
        "datasetLogScaleMinusMovingAverage.head(10)"
      ],
      "execution_count": null,
      "outputs": []
    },
    {
      "cell_type": "code",
      "metadata": {
        "id": "RACtPNXTat_b"
      },
      "source": [
        "results2 = pmdarima.arima.CHTest(m=12).estimate_seasonal_differencing_term(datasetLogScaleMinusMovingAverage)\n",
        "results2"
      ],
      "execution_count": null,
      "outputs": []
    },
    {
      "cell_type": "code",
      "metadata": {
        "id": "QcNGay8eZMlL"
      },
      "source": [
        "adf_values(datasetLogScaleMinusMovingAverage)"
      ],
      "execution_count": null,
      "outputs": []
    },
    {
      "cell_type": "markdown",
      "metadata": {
        "id": "zFyoGPkK_SwR"
      },
      "source": [
        "Using automated Differencing"
      ]
    },
    {
      "cell_type": "code",
      "metadata": {
        "id": "1gTa6FdY_SU5"
      },
      "source": [
        "diffauto1 = datasetLogScaleMinusMovingAverage.diff()\n",
        "plt.plot(diffauto1)\n",
        "plt.show()"
      ],
      "execution_count": null,
      "outputs": []
    },
    {
      "cell_type": "code",
      "metadata": {
        "id": "xlglifzxAwLw"
      },
      "source": [
        "diffauto1.dropna(inplace=True)\n",
        "diffauto1.head()"
      ],
      "execution_count": null,
      "outputs": []
    },
    {
      "cell_type": "code",
      "metadata": {
        "id": "E1gJ7L0WAYzH"
      },
      "source": [
        "adf_values(diffauto1['Price'])"
      ],
      "execution_count": null,
      "outputs": []
    },
    {
      "cell_type": "code",
      "metadata": {
        "id": "rkvnlEmIHOrl"
      },
      "source": [
        "val1 = diffauto1.values\n",
        "mean1 = val1.mean()\n",
        "std1 = val1.std()\n",
        "print(mean1, std1)"
      ],
      "execution_count": null,
      "outputs": []
    },
    {
      "cell_type": "code",
      "metadata": {
        "id": "ER8mXNGpF8ab"
      },
      "source": [
        "test.should_diff(diffauto1)"
      ],
      "execution_count": null,
      "outputs": []
    },
    {
      "cell_type": "code",
      "metadata": {
        "id": "BtiwcLW6ZplR"
      },
      "source": [
        "adf_values(diffauto1)"
      ],
      "execution_count": null,
      "outputs": []
    },
    {
      "cell_type": "markdown",
      "metadata": {
        "id": "wTvMQ97pBRL_"
      },
      "source": [
        "2nd Differencing"
      ]
    },
    {
      "cell_type": "code",
      "metadata": {
        "id": "dUkhAjFLBPNQ"
      },
      "source": [
        "diffauto2 = diffauto1.diff()\n",
        "plt.plot(diffauto2)\n",
        "plt.show()"
      ],
      "execution_count": null,
      "outputs": []
    },
    {
      "cell_type": "code",
      "metadata": {
        "id": "tA4pXDT_Hnb7"
      },
      "source": [
        "val2 = diffauto2.values\n",
        "mean2 = val2.mean()\n",
        "std2 = val2.std()\n",
        "print(mean2, std2)"
      ],
      "execution_count": null,
      "outputs": []
    },
    {
      "cell_type": "code",
      "metadata": {
        "id": "Bx0jXlVpBcIv"
      },
      "source": [
        "diffauto2.dropna(inplace=True)\n",
        "diffauto2.head()"
      ],
      "execution_count": null,
      "outputs": []
    },
    {
      "cell_type": "code",
      "metadata": {
        "id": "434f-I_yBuec"
      },
      "source": [
        "adf_values(diffauto2['Price'])"
      ],
      "execution_count": null,
      "outputs": []
    },
    {
      "cell_type": "code",
      "metadata": {
        "id": "bgC66QCeHFDU"
      },
      "source": [
        "test.should_diff(diffauto2)"
      ],
      "execution_count": null,
      "outputs": []
    },
    {
      "cell_type": "markdown",
      "metadata": {
        "id": "DZ7NOTIdB91W"
      },
      "source": [
        "3rd Differencing"
      ]
    },
    {
      "cell_type": "code",
      "metadata": {
        "id": "1yg9tRZ9B8du"
      },
      "source": [
        "diffauto3 = diffauto2.diff()\n",
        "plt.plot(diffauto3)\n",
        "plt.show()"
      ],
      "execution_count": null,
      "outputs": []
    },
    {
      "cell_type": "code",
      "metadata": {
        "id": "T8iD3xKNCFoR"
      },
      "source": [
        "diffauto3.dropna(inplace=True)\n",
        "diffauto3.head()"
      ],
      "execution_count": null,
      "outputs": []
    },
    {
      "cell_type": "code",
      "metadata": {
        "id": "__nZitKWCMUD"
      },
      "source": [
        "adf_values(diffauto3['Price'])"
      ],
      "execution_count": null,
      "outputs": []
    }
  ]
}